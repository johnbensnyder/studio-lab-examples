{
 "cells": [
  {
   "cell_type": "code",
   "execution_count": 25,
   "id": "39a4a87d-266f-4b9f-8dd1-6ddc5c899b07",
   "metadata": {},
   "outputs": [],
   "source": [
    "import jax\n",
    "import os\n",
    "import sys\n",
    "from tqdm.notebook import tqdm\n",
    "os.environ['TF_FORCE_UNIFIED_MEMORY'] = '1'\n",
    "os.environ['XLA_PYTHON_CLIENT_MEM_FRACTION'] = '2.0'\n",
    "TQDM_BAR_FORMAT = '{l_bar}{bar}| {n_fmt}/{total_fmt} [elapsed: {elapsed} remaining: {remaining}]'"
   ]
  },
  {
   "cell_type": "code",
   "execution_count": 2,
   "id": "cc451ec8-4e16-4d4a-85b6-2dd114f012c2",
   "metadata": {},
   "outputs": [
    {
     "name": "stdout",
     "output_type": "stream",
     "text": [
      "Running with Tesla T4 GPU\n"
     ]
    }
   ],
   "source": [
    "print(f'Running with {jax.local_devices()[0].device_kind} GPU')"
   ]
  },
  {
   "cell_type": "code",
   "execution_count": 3,
   "id": "6966ef86-bcef-4bd7-b292-fd3fced6e7d7",
   "metadata": {},
   "outputs": [],
   "source": [
    "from alphafold.notebooks import notebook_utils"
   ]
  },
  {
   "cell_type": "code",
   "execution_count": 4,
   "id": "db0b90e2-fe21-4a3f-b090-fb8c038b6256",
   "metadata": {},
   "outputs": [],
   "source": [
    "sequence_1 = 'MAAHKGAEHHHKAAEHHEQAAKHHHAAAEHHEKGEHEQAAHHADTAYAHHKHAEEHAAQAAKHDAEHHAPKPH'"
   ]
  },
  {
   "cell_type": "code",
   "execution_count": 5,
   "id": "026aebe7-5ac0-4c88-b636-41f48403c094",
   "metadata": {},
   "outputs": [],
   "source": [
    "input_sequences = (sequence_1,)"
   ]
  },
  {
   "cell_type": "code",
   "execution_count": 6,
   "id": "c2ddc69f-1e34-413e-8aa7-14ebbc8c99eb",
   "metadata": {},
   "outputs": [],
   "source": [
    "is_prokaryote = False  #@param {type:\"boolean\"}\n",
    "\n",
    "MIN_SINGLE_SEQUENCE_LENGTH = 16\n",
    "MAX_SINGLE_SEQUENCE_LENGTH = 2500\n",
    "MAX_MULTIMER_LENGTH = 2500"
   ]
  },
  {
   "cell_type": "code",
   "execution_count": 7,
   "id": "9328f354-857c-4b3c-a28f-cfdc6046e129",
   "metadata": {},
   "outputs": [
    {
     "name": "stdout",
     "output_type": "stream",
     "text": [
      "Using the single-chain model.\n"
     ]
    }
   ],
   "source": [
    "sequences, model_type_to_use = notebook_utils.validate_input(\n",
    "    input_sequences=input_sequences,\n",
    "    min_length=MIN_SINGLE_SEQUENCE_LENGTH,\n",
    "    max_length=MAX_SINGLE_SEQUENCE_LENGTH,\n",
    "    max_multimer_length=MAX_MULTIMER_LENGTH)"
   ]
  },
  {
   "cell_type": "code",
   "execution_count": 8,
   "id": "a9ccfbf1-7853-41be-b9e3-573618be6827",
   "metadata": {},
   "outputs": [],
   "source": [
    "# --- Python imports ---\n",
    "import collections\n",
    "import copy\n",
    "from concurrent import futures\n",
    "import json\n",
    "import random\n",
    "\n",
    "from urllib import request\n",
    "from matplotlib import gridspec\n",
    "import matplotlib.pyplot as plt\n",
    "import numpy as np\n",
    "import py3Dmol\n",
    "\n",
    "from alphafold.model import model\n",
    "from alphafold.model import config\n",
    "from alphafold.model import data\n",
    "\n",
    "from alphafold.data import feature_processing\n",
    "from alphafold.data import msa_pairing\n",
    "from alphafold.data import parsers\n",
    "from alphafold.data import pipeline\n",
    "from alphafold.data import pipeline_multimer\n",
    "from alphafold.data.tools import jackhmmer\n",
    "\n",
    "from alphafold.common import protein\n",
    "\n",
    "from alphafold.relax import relax\n",
    "from alphafold.relax import utils\n",
    "\n",
    "from IPython import display\n",
    "from ipywidgets import GridspecLayout\n",
    "from ipywidgets import Output"
   ]
  },
  {
   "cell_type": "code",
   "execution_count": 9,
   "id": "260a7a15-0bc7-4731-9952-784d259627f6",
   "metadata": {},
   "outputs": [],
   "source": [
    "# Color bands for visualizing plddt\n",
    "PLDDT_BANDS = [(0, 50, '#FF7D45'),\n",
    "               (50, 70, '#FFDB13'),\n",
    "               (70, 90, '#65CBF3'),\n",
    "               (90, 100, '#0053D6')]\n",
    "\n",
    "# --- Find the closest source ---\n",
    "test_url_pattern = 'https://storage.googleapis.com/alphafold-colab{:s}/latest/uniref90_2021_03.fasta.1'\n",
    "ex = futures.ThreadPoolExecutor(3)\n",
    "def fetch(source):\n",
    "  request.urlretrieve(test_url_pattern.format(source))\n",
    "  return source\n",
    "fs = [ex.submit(fetch, source) for source in ['', '-europe', '-asia']]\n",
    "source = None\n",
    "for f in futures.as_completed(fs):\n",
    "  source = f.result()\n",
    "  ex.shutdown()\n",
    "  break"
   ]
  },
  {
   "cell_type": "code",
   "execution_count": 15,
   "id": "11a8119b-1c2f-4353-b6b2-b94e34f356d8",
   "metadata": {},
   "outputs": [],
   "source": [
    "JACKHMMER_BINARY_PATH = '/home/studio-lab-user/.conda/pkgs/hmmer-3.3.2-h1b792b2_1/bin/jackhmmer'\n",
    "DB_ROOT_PATH = f'https://storage.googleapis.com/alphafold-colab{source}/latest/'\n",
    "# The z_value is the number of sequences in a database.\n",
    "MSA_DATABASES = [\n",
    "    {'db_name': 'uniref90',\n",
    "     'db_path': f'{DB_ROOT_PATH}uniref90_2021_03.fasta',\n",
    "     'num_streamed_chunks': 59,\n",
    "     'z_value': 135_301_051},\n",
    "    {'db_name': 'smallbfd',\n",
    "     'db_path': f'{DB_ROOT_PATH}bfd-first_non_consensus_sequences.fasta',\n",
    "     'num_streamed_chunks': 17,\n",
    "     'z_value': 65_984_053},\n",
    "    {'db_name': 'mgnify',\n",
    "     'db_path': f'{DB_ROOT_PATH}mgy_clusters_2019_05.fasta',\n",
    "     'num_streamed_chunks': 71,\n",
    "     'z_value': 304_820_129},\n",
    "]"
   ]
  },
  {
   "cell_type": "code",
   "execution_count": 16,
   "id": "ef8141f2-abeb-442e-bb2a-3bd9b09c5bb0",
   "metadata": {},
   "outputs": [],
   "source": [
    "# Search UniProt and construct the all_seq features only for heteromers, not homomers.\n",
    "if model_type_to_use == notebook_utils.ModelType.MULTIMER and len(set(sequences)) > 1:\n",
    "  MSA_DATABASES.extend([\n",
    "      # Swiss-Prot and TrEMBL are concatenated together as UniProt.\n",
    "      {'db_name': 'uniprot',\n",
    "       'db_path': f'{DB_ROOT_PATH}uniprot_2021_03.fasta',\n",
    "       'num_streamed_chunks': 98,\n",
    "       'z_value': 219_174_961 + 565_254},\n",
    "  ])"
   ]
  },
  {
   "cell_type": "code",
   "execution_count": 17,
   "id": "ad4d2339-3399-4623-b21c-6db59a25c320",
   "metadata": {},
   "outputs": [],
   "source": [
    "TOTAL_JACKHMMER_CHUNKS = sum([cfg['num_streamed_chunks'] for cfg in MSA_DATABASES])\n",
    "\n",
    "MAX_HITS = {\n",
    "    'uniref90': 10_000,\n",
    "    'smallbfd': 5_000,\n",
    "    'mgnify': 501,\n",
    "    'uniprot': 50_000,\n",
    "}"
   ]
  },
  {
   "cell_type": "code",
   "execution_count": 18,
   "id": "ebc38982-703d-4280-8e1d-1e5047e679b7",
   "metadata": {},
   "outputs": [],
   "source": [
    "def get_msa(fasta_path):\n",
    "  \"\"\"Searches for MSA for the given sequence using chunked Jackhmmer search.\"\"\"\n",
    "\n",
    "  # Run the search against chunks of genetic databases (since the genetic\n",
    "  # databases don't fit in Colab disk).\n",
    "  raw_msa_results = collections.defaultdict(list)\n",
    "  with tqdm(total=TOTAL_JACKHMMER_CHUNKS, bar_format=TQDM_BAR_FORMAT) as pbar:\n",
    "    def jackhmmer_chunk_callback(i):\n",
    "      pbar.update(n=1)\n",
    "\n",
    "    for db_config in MSA_DATABASES:\n",
    "      db_name = db_config['db_name']\n",
    "      pbar.set_description(f'Searching {db_name}')\n",
    "      jackhmmer_runner = jackhmmer.Jackhmmer(\n",
    "          binary_path=JACKHMMER_BINARY_PATH,\n",
    "          database_path=db_config['db_path'],\n",
    "          get_tblout=True,\n",
    "          num_streamed_chunks=db_config['num_streamed_chunks'],\n",
    "          streaming_callback=jackhmmer_chunk_callback,\n",
    "          z_value=db_config['z_value'])\n",
    "      # Group the results by database name.\n",
    "      raw_msa_results[db_name].extend(jackhmmer_runner.query(fasta_path))\n",
    "\n",
    "  return raw_msa_results"
   ]
  },
  {
   "cell_type": "code",
   "execution_count": 19,
   "id": "7fac3a09-fb17-44b5-b04c-6d427dcf40ab",
   "metadata": {},
   "outputs": [
    {
     "name": "stdout",
     "output_type": "stream",
     "text": [
      "\n",
      "Getting MSA for sequence 1\n"
     ]
    },
    {
     "data": {
      "application/vnd.jupyter.widget-view+json": {
       "model_id": "60111f365217493ca5b528b8f353afe5",
       "version_major": 2,
       "version_minor": 0
      },
      "text/plain": [
       "  0%|          | 0/147 [elapsed: 00:00 remaining: ?]"
      ]
     },
     "metadata": {},
     "output_type": "display_data"
    },
    {
     "name": "stdout",
     "output_type": "stream",
     "text": [
      "58 unique sequences found in uniref90 for sequence 1\n",
      "110 unique sequences found in smallbfd for sequence 1\n",
      "9 unique sequences found in mgnify for sequence 1\n",
      "\n",
      "173 unique sequences found in total for sequence 1\n",
      "\n"
     ]
    },
    {
     "data": {
      "image/png": "[encoded data removed]",
      "text/plain": [
       "<Figure size 864x216 with 1 Axes>"
      ]
     },
     "metadata": {
      "needs_background": "light"
     },
     "output_type": "display_data"
    }
   ],
   "source": [
    "features_for_chain = {}\n",
    "raw_msa_results_for_sequence = {}\n",
    "for sequence_index, sequence in enumerate(sequences, start=1):\n",
    "  print(f'\\nGetting MSA for sequence {sequence_index}')\n",
    "\n",
    "  fasta_path = f'target_{sequence_index}.fasta'\n",
    "  with open(fasta_path, 'wt') as f:\n",
    "    f.write(f'>query\\n{sequence}')\n",
    "\n",
    "  # Don't do redundant work for multiple copies of the same chain in the multimer.\n",
    "  if sequence not in raw_msa_results_for_sequence:\n",
    "    raw_msa_results = get_msa(fasta_path=fasta_path)\n",
    "    raw_msa_results_for_sequence[sequence] = raw_msa_results\n",
    "  else:\n",
    "    raw_msa_results = copy.deepcopy(raw_msa_results_for_sequence[sequence])\n",
    "\n",
    "  # Extract the MSAs from the Stockholm files.\n",
    "  # NB: deduplication happens later in pipeline.make_msa_features.\n",
    "  single_chain_msas = []\n",
    "  uniprot_msa = None\n",
    "  for db_name, db_results in raw_msa_results.items():\n",
    "    merged_msa = notebook_utils.merge_chunked_msa(\n",
    "        results=db_results, max_hits=MAX_HITS.get(db_name))\n",
    "    if merged_msa.sequences and db_name != 'uniprot':\n",
    "      single_chain_msas.append(merged_msa)\n",
    "      msa_size = len(set(merged_msa.sequences))\n",
    "      print(f'{msa_size} unique sequences found in {db_name} for sequence {sequence_index}')\n",
    "    elif merged_msa.sequences and db_name == 'uniprot':\n",
    "      uniprot_msa = merged_msa\n",
    "\n",
    "  notebook_utils.show_msa_info(single_chain_msas=single_chain_msas, sequence_index=sequence_index)\n",
    "\n",
    "  # Turn the raw data into model features.\n",
    "  feature_dict = {}\n",
    "  feature_dict.update(pipeline.make_sequence_features(\n",
    "      sequence=sequence, description='query', num_res=len(sequence)))\n",
    "  feature_dict.update(pipeline.make_msa_features(msas=single_chain_msas))\n",
    "  # We don't use templates in AlphaFold Colab notebook, add only empty placeholder features.\n",
    "  feature_dict.update(notebook_utils.empty_placeholder_template_features(\n",
    "      num_templates=0, num_res=len(sequence)))\n",
    "\n",
    "  # Construct the all_seq features only for heteromers, not homomers.\n",
    "  if model_type_to_use == notebook_utils.ModelType.MULTIMER and len(set(sequences)) > 1:\n",
    "    valid_feats = msa_pairing.MSA_FEATURES + (\n",
    "        'msa_uniprot_accession_identifiers',\n",
    "        'msa_species_identifiers',\n",
    "    )\n",
    "    all_seq_features = {\n",
    "        f'{k}_all_seq': v for k, v in pipeline.make_msa_features([uniprot_msa]).items()\n",
    "        if k in valid_feats}\n",
    "    feature_dict.update(all_seq_features)\n",
    "\n",
    "  features_for_chain[protein.PDB_CHAIN_IDS[sequence_index - 1]] = feature_dict"
   ]
  },
  {
   "cell_type": "code",
   "execution_count": 20,
   "id": "5eb90c5e-faf9-48a0-86a3-fcc261752f0b",
   "metadata": {},
   "outputs": [],
   "source": [
    "# Do further feature post-processing depending on the model type.\n",
    "if model_type_to_use == notebook_utils.ModelType.MONOMER:\n",
    "  np_example = features_for_chain[protein.PDB_CHAIN_IDS[0]]\n",
    "\n",
    "elif model_type_to_use == notebook_utils.ModelType.MULTIMER:\n",
    "  all_chain_features = {}\n",
    "  for chain_id, chain_features in features_for_chain.items():\n",
    "    all_chain_features[chain_id] = pipeline_multimer.convert_monomer_features(\n",
    "        chain_features, chain_id)\n",
    "\n",
    "  all_chain_features = pipeline_multimer.add_assembly_features(all_chain_features)\n",
    "\n",
    "  np_example = feature_processing.pair_and_merge(\n",
    "      all_chain_features=all_chain_features, is_prokaryote=is_prokaryote)\n",
    "\n",
    "  # Pad MSA to avoid zero-sized extra_msa.\n",
    "  np_example = pipeline_multimer.pad_msa(np_example, min_num_seq=512)"
   ]
  },
  {
   "cell_type": "code",
   "execution_count": 21,
   "id": "014519b4-70c8-429a-b934-e0a2b734e12b",
   "metadata": {},
   "outputs": [],
   "source": [
    "run_relax = True  #@param {type:\"boolean\"}\n",
    "\n",
    "# --- Run the model ---\n",
    "if model_type_to_use == notebook_utils.ModelType.MONOMER:\n",
    "  model_names = config.MODEL_PRESETS['monomer'] + ('model_2_ptm',)\n",
    "elif model_type_to_use == notebook_utils.ModelType.MULTIMER:\n",
    "  model_names = config.MODEL_PRESETS['multimer']\n",
    "\n",
    "output_dir = 'prediction'\n",
    "os.makedirs(output_dir, exist_ok=True)\n",
    "\n",
    "plddts = {}\n",
    "ranking_confidences = {}\n",
    "pae_outputs = {}\n",
    "unrelaxed_proteins = {}"
   ]
  },
  {
   "cell_type": "code",
   "execution_count": 26,
   "id": "074e0542-b406-4316-b61d-c6739d1953a7",
   "metadata": {},
   "outputs": [
    {
     "data": {
      "application/vnd.jupyter.widget-view+json": {
       "model_id": "fbd3660875934ec997febe90a787f289",
       "version_major": 2,
       "version_minor": 0
      },
      "text/plain": [
       "  0%|          | 0/7 [elapsed: 00:00 remaining: ?]"
      ]
     },
     "metadata": {},
     "output_type": "display_data"
    }
   ],
   "source": [
    "with tqdm(total=len(model_names) + 1, bar_format=TQDM_BAR_FORMAT) as pbar:\n",
    "  for model_name in model_names:\n",
    "    pbar.set_description(f'Running {model_name}')\n",
    "\n",
    "    cfg = config.model_config(model_name)\n",
    "    if model_type_to_use == notebook_utils.ModelType.MONOMER:\n",
    "      cfg.data.eval.num_ensemble = 1\n",
    "    elif model_type_to_use == notebook_utils.ModelType.MULTIMER:\n",
    "      cfg.model.num_ensemble_eval = 1\n",
    "    params = data.get_model_haiku_params(model_name, './data')\n",
    "    model_runner = model.RunModel(cfg, params)\n",
    "    processed_feature_dict = model_runner.process_features(np_example, random_seed=0)\n",
    "    prediction = model_runner.predict(processed_feature_dict, random_seed=random.randrange(sys.maxsize))\n",
    "\n",
    "    mean_plddt = prediction['plddt'].mean()\n",
    "\n",
    "    if model_type_to_use == notebook_utils.ModelType.MONOMER:\n",
    "      if 'predicted_aligned_error' in prediction:\n",
    "        pae_outputs[model_name] = (prediction['predicted_aligned_error'],\n",
    "                                   prediction['max_predicted_aligned_error'])\n",
    "      else:\n",
    "        # Monomer models are sorted by mean pLDDT. Do not put monomer pTM models here as they\n",
    "        # should never get selected.\n",
    "        ranking_confidences[model_name] = prediction['ranking_confidence']\n",
    "        plddts[model_name] = prediction['plddt']\n",
    "    elif model_type_to_use == notebook_utils.ModelType.MULTIMER:\n",
    "      # Multimer models are sorted by pTM+ipTM.\n",
    "      ranking_confidences[model_name] = prediction['ranking_confidence']\n",
    "      plddts[model_name] = prediction['plddt']\n",
    "      pae_outputs[model_name] = (prediction['predicted_aligned_error'],\n",
    "                                 prediction['max_predicted_aligned_error'])\n",
    "\n",
    "    # Set the b-factors to the per-residue plddt.\n",
    "    final_atom_mask = prediction['structure_module']['final_atom_mask']\n",
    "    b_factors = prediction['plddt'][:, None] * final_atom_mask\n",
    "    unrelaxed_protein = protein.from_prediction(\n",
    "        processed_feature_dict,\n",
    "        prediction,\n",
    "        b_factors=b_factors,\n",
    "        remove_leading_feature_dimension=(\n",
    "            model_type_to_use == notebook_utils.ModelType.MONOMER))\n",
    "    unrelaxed_proteins[model_name] = unrelaxed_protein\n",
    "\n",
    "    # Delete unused outputs to save memory.\n",
    "    del model_runner\n",
    "    del params\n",
    "    del prediction\n",
    "    pbar.update(n=1)\n",
    "\n",
    "  # --- AMBER relax the best model ---\n",
    "\n",
    "  # Find the best model according to the mean pLDDT.\n",
    "  best_model_name = max(ranking_confidences.keys(), key=lambda x: ranking_confidences[x])\n",
    "\n",
    "  if run_relax:\n",
    "    pbar.set_description(f'AMBER relaxation')\n",
    "    amber_relaxer = relax.AmberRelaxation(\n",
    "        max_iterations=0,\n",
    "        tolerance=2.39,\n",
    "        stiffness=10.0,\n",
    "        exclude_residues=[],\n",
    "        max_outer_iterations=3)\n",
    "    relaxed_pdb, _, _ = amber_relaxer.process(prot=unrelaxed_proteins[best_model_name])\n",
    "  else:\n",
    "    print('Warning: Running without the relaxation stage.')\n",
    "    relaxed_pdb = protein.to_pdb(unrelaxed_proteins[best_model_name])\n",
    "  pbar.update(n=1)  # Finished AMBER relax."
   ]
  },
  {
   "cell_type": "code",
   "execution_count": 27,
   "id": "bf9d613a-29ee-4058-b63c-8ff92ea8b23c",
   "metadata": {},
   "outputs": [],
   "source": [
    "# Construct multiclass b-factors to indicate confidence bands\n",
    "# 0=very low, 1=low, 2=confident, 3=very high\n",
    "banded_b_factors = []\n",
    "for plddt in plddts[best_model_name]:\n",
    "  for idx, (min_val, max_val, _) in enumerate(PLDDT_BANDS):\n",
    "    if plddt >= min_val and plddt <= max_val:\n",
    "      banded_b_factors.append(idx)\n",
    "      break\n",
    "banded_b_factors = np.array(banded_b_factors)[:, None] * final_atom_mask\n",
    "to_visualize_pdb = utils.overwrite_b_factors(relaxed_pdb, banded_b_factors)\n",
    "\n",
    "\n",
    "# Write out the prediction\n",
    "pred_output_path = os.path.join(output_dir, 'selected_prediction.pdb')\n",
    "with open(pred_output_path, 'w') as f:\n",
    "  f.write(relaxed_pdb)"
   ]
  },
  {
   "cell_type": "code",
   "execution_count": 28,
   "id": "b0584fe2-4480-417a-9352-ccf8e0beb572",
   "metadata": {},
   "outputs": [],
   "source": [
    "# --- Visualise the prediction & confidence ---\n",
    "show_sidechains = True\n",
    "def plot_plddt_legend():\n",
    "  \"\"\"Plots the legend for pLDDT.\"\"\"\n",
    "  thresh = ['Very low (pLDDT < 50)',\n",
    "            'Low (70 > pLDDT > 50)',\n",
    "            'Confident (90 > pLDDT > 70)',\n",
    "            'Very high (pLDDT > 90)']\n",
    "\n",
    "  colors = [x[2] for x in PLDDT_BANDS]\n",
    "\n",
    "  plt.figure(figsize=(2, 2))\n",
    "  for c in colors:\n",
    "    plt.bar(0, 0, color=c)\n",
    "  plt.legend(thresh, frameon=False, loc='center', fontsize=20)\n",
    "  plt.xticks([])\n",
    "  plt.yticks([])\n",
    "  ax = plt.gca()\n",
    "  ax.spines['right'].set_visible(False)\n",
    "  ax.spines['top'].set_visible(False)\n",
    "  ax.spines['left'].set_visible(False)\n",
    "  ax.spines['bottom'].set_visible(False)\n",
    "  plt.title('Model Confidence', fontsize=20, pad=20)\n",
    "  return plt"
   ]
  },
  {
   "cell_type": "code",
   "execution_count": 30,
   "id": "dc7c2bbf-c735-4644-9f95-d9a698729aab",
   "metadata": {},
   "outputs": [
    {
     "data": {
      "text/plain": [
       "\"\\n# Show the structure coloured by chain if the multimer model has been used.\\nif model_type_to_use == notebook_utils.ModelType.MULTIMER:\\n  multichain_view = py3Dmol.view(width=800, height=600)\\n  multichain_view.addModelsAsFrames(to_visualize_pdb)\\n  multichain_style = {'cartoon': {'colorscheme': 'chain'}}\\n  multichain_view.setStyle({'model': -1}, multichain_style)\\n  multichain_view.zoomTo()\\n  multichain_view.show()\\n\\n# Color the structure by per-residue pLDDT\\ncolor_map = {i: bands[2] for i, bands in enumerate(PLDDT_BANDS)}\\nview = py3Dmol.view(width=800, height=600)\\nview.addModelsAsFrames(to_visualize_pdb)\\nstyle = {'cartoon': {'colorscheme': {'prop': 'b', 'map': color_map}}}\\nif show_sidechains:\\n  style['stick'] = {}\\nview.setStyle({'model': -1}, style)\\nview.zoomTo()\\n\\ngrid = GridspecLayout(1, 2)\\nout = Output()\\nwith out:\\n  view.show()\\ngrid[0, 0] = out\\n\\nout = Output()\\nwith out:\\n  plot_plddt_legend().show()\\ngrid[0, 1] = out\\n\\ndisplay.display(grid)\\n\\n# Display pLDDT and predicted aligned error (if output by the model).\\nif pae_outputs:\\n  num_plots = 2\\nelse:\\n  num_plots = 1\\n\\nplt.figure(figsize=[8 * num_plots, 6])\\nplt.subplot(1, num_plots, 1)\\nplt.plot(plddts[best_model_name])\\nplt.title('Predicted LDDT')\\nplt.xlabel('Residue')\\nplt.ylabel('pLDDT')\\n\\nif num_plots == 2:\\n  plt.subplot(1, 2, 2)\\n  pae, max_pae = list(pae_outputs.values())[0]\\n  plt.imshow(pae, vmin=0., vmax=max_pae, cmap='Greens_r')\\n  plt.colorbar(fraction=0.046, pad=0.04)\\n\\n  # Display lines at chain boundaries.\\n  best_unrelaxed_prot = unrelaxed_proteins[best_model_name]\\n  total_num_res = best_unrelaxed_prot.residue_index.shape[-1]\\n  chain_ids = best_unrelaxed_prot.chain_index\\n  for chain_boundary in np.nonzero(chain_ids[:-1] - chain_ids[1:]):\\n    if chain_boundary.size:\\n      plt.plot([0, total_num_res], [chain_boundary, chain_boundary], color='red')\\n      plt.plot([chain_boundary, chain_boundary], [0, total_num_res], color='red')\\n\\n  plt.title('Predicted Aligned Error')\\n  plt.xlabel('Scored residue')\\n  plt.ylabel('Aligned residue')\\n\\n# Save the predicted aligned error (if it exists).\\npae_output_path = os.path.join(output_dir, 'predicted_aligned_error.json')\\nif pae_outputs:\\n  # Save predicted aligned error in the same format as the AF EMBL DB.\\n  pae_data = notebook_utils.get_pae_json(pae=pae, max_pae=max_pae.item())\\n  with open(pae_output_path, 'w') as f:\\n    f.write(pae_data)\\n\""
      ]
     },
     "execution_count": 30,
     "metadata": {},
     "output_type": "execute_result"
    }
   ],
   "source": [
    "'''\n",
    "# Show the structure coloured by chain if the multimer model has been used.\n",
    "if model_type_to_use == notebook_utils.ModelType.MULTIMER:\n",
    "  multichain_view = py3Dmol.view(width=800, height=600)\n",
    "  multichain_view.addModelsAsFrames(to_visualize_pdb)\n",
    "  multichain_style = {'cartoon': {'colorscheme': 'chain'}}\n",
    "  multichain_view.setStyle({'model': -1}, multichain_style)\n",
    "  multichain_view.zoomTo()\n",
    "  multichain_view.show()\n",
    "\n",
    "# Color the structure by per-residue pLDDT\n",
    "color_map = {i: bands[2] for i, bands in enumerate(PLDDT_BANDS)}\n",
    "view = py3Dmol.view(width=800, height=600)\n",
    "view.addModelsAsFrames(to_visualize_pdb)\n",
    "style = {'cartoon': {'colorscheme': {'prop': 'b', 'map': color_map}}}\n",
    "if show_sidechains:\n",
    "  style['stick'] = {}\n",
    "view.setStyle({'model': -1}, style)\n",
    "view.zoomTo()\n",
    "\n",
    "grid = GridspecLayout(1, 2)\n",
    "out = Output()\n",
    "with out:\n",
    "  view.show()\n",
    "grid[0, 0] = out\n",
    "\n",
    "out = Output()\n",
    "with out:\n",
    "  plot_plddt_legend().show()\n",
    "grid[0, 1] = out\n",
    "\n",
    "display.display(grid)\n",
    "\n",
    "# Display pLDDT and predicted aligned error (if output by the model).\n",
    "if pae_outputs:\n",
    "  num_plots = 2\n",
    "else:\n",
    "  num_plots = 1\n",
    "\n",
    "plt.figure(figsize=[8 * num_plots, 6])\n",
    "plt.subplot(1, num_plots, 1)\n",
    "plt.plot(plddts[best_model_name])\n",
    "plt.title('Predicted LDDT')\n",
    "plt.xlabel('Residue')\n",
    "plt.ylabel('pLDDT')\n",
    "\n",
    "if num_plots == 2:\n",
    "  plt.subplot(1, 2, 2)\n",
    "  pae, max_pae = list(pae_outputs.values())[0]\n",
    "  plt.imshow(pae, vmin=0., vmax=max_pae, cmap='Greens_r')\n",
    "  plt.colorbar(fraction=0.046, pad=0.04)\n",
    "\n",
    "  # Display lines at chain boundaries.\n",
    "  best_unrelaxed_prot = unrelaxed_proteins[best_model_name]\n",
    "  total_num_res = best_unrelaxed_prot.residue_index.shape[-1]\n",
    "  chain_ids = best_unrelaxed_prot.chain_index\n",
    "  for chain_boundary in np.nonzero(chain_ids[:-1] - chain_ids[1:]):\n",
    "    if chain_boundary.size:\n",
    "      plt.plot([0, total_num_res], [chain_boundary, chain_boundary], color='red')\n",
    "      plt.plot([chain_boundary, chain_boundary], [0, total_num_res], color='red')\n",
    "\n",
    "  plt.title('Predicted Aligned Error')\n",
    "  plt.xlabel('Scored residue')\n",
    "  plt.ylabel('Aligned residue')\n",
    "\n",
    "# Save the predicted aligned error (if it exists).\n",
    "pae_output_path = os.path.join(output_dir, 'predicted_aligned_error.json')\n",
    "if pae_outputs:\n",
    "  # Save predicted aligned error in the same format as the AF EMBL DB.\n",
    "  pae_data = notebook_utils.get_pae_json(pae=pae, max_pae=max_pae.item())\n",
    "  with open(pae_output_path, 'w') as f:\n",
    "    f.write(pae_data)\n",
    "'''"
   ]
  },
  {
   "cell_type": "code",
   "execution_count": null,
   "id": "0e6d0540-88ec-4f74-8125-f723a55e01ca",
   "metadata": {},
   "outputs": [],
   "source": []
  }
 ],
 "metadata": {
  "kernelspec": {
   "display_name": "alphafold:Python",
   "language": "python",
   "name": "conda-env-alphafold-py"
  },
  "language_info": {
   "codemirror_mode": {
    "name": "ipython",
    "version": 3
   },
   "file_extension": ".py",
   "mimetype": "text/x-python",
   "name": "python",
   "nbconvert_exporter": "python",
   "pygments_lexer": "ipython3",
   "version": "3.7.12"
  }
 },
 "nbformat": 4,
 "nbformat_minor": 5
}
